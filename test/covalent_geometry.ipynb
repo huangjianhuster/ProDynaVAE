{
 "cells": [
  {
   "cell_type": "code",
   "execution_count": 1,
   "id": "0875cbc3-fa5a-441d-ae37-4a0386c2b8a8",
   "metadata": {
    "execution": {
     "iopub.execute_input": "2023-10-09T22:58:23.580365Z",
     "iopub.status.busy": "2023-10-09T22:58:23.579887Z",
     "iopub.status.idle": "2023-10-09T22:58:25.700270Z",
     "shell.execute_reply": "2023-10-09T22:58:25.697316Z",
     "shell.execute_reply.started": "2023-10-09T22:58:23.580300Z"
    }
   },
   "outputs": [],
   "source": [
    "import MDAnalysis as mda\n",
    "import os\n",
    "import numpy as np\n",
    "import matplotlib.pyplot as plt\n",
    "import sys\n",
    "sys.path.append(os.path.abspath(\"/home/jianhuang/rainier/projects/VAE/ProDynaVAE\"))\n",
    "from utils.traj_analysis import *\n",
    "from utils.plot import *"
   ]
  },
  {
   "cell_type": "code",
   "execution_count": 2,
   "id": "905dce0d-da1f-42b7-bd7d-6069fb121bf8",
   "metadata": {
    "execution": {
     "iopub.execute_input": "2023-10-09T22:58:25.709656Z",
     "iopub.status.busy": "2023-10-09T22:58:25.709278Z",
     "iopub.status.idle": "2023-10-09T22:58:25.715030Z",
     "shell.execute_reply": "2023-10-09T22:58:25.713411Z",
     "shell.execute_reply.started": "2023-10-09T22:58:25.709622Z"
    }
   },
   "outputs": [],
   "source": [
    "psf = \"/home/jianhuang/rainier/tmp/4shrishti/proa/step1_pdbreader.psf\"\n",
    "xtc = \"/home/jianhuang/rainier/tmp/4shrishti/proa/step5_1_align.xtc\""
   ]
  },
  {
   "cell_type": "code",
   "execution_count": 3,
   "id": "4f574041-065f-46e6-9b97-7fb717506ea5",
   "metadata": {
    "execution": {
     "iopub.execute_input": "2023-10-09T22:58:25.722464Z",
     "iopub.status.busy": "2023-10-09T22:58:25.721877Z",
     "iopub.status.idle": "2023-10-09T22:58:26.651178Z",
     "shell.execute_reply": "2023-10-09T22:58:26.648497Z",
     "shell.execute_reply.started": "2023-10-09T22:58:25.722409Z"
    }
   },
   "outputs": [],
   "source": [
    "u = mda.Universe(psf, xtc)"
   ]
  },
  {
   "cell_type": "markdown",
   "id": "7ee9f55a-a26f-4e67-85de-2171447f235f",
   "metadata": {},
   "source": [
    "# Bonds"
   ]
  },
  {
   "cell_type": "code",
   "execution_count": 4,
   "id": "8c7fcdd9-bdfd-4943-995f-dad6a011807e",
   "metadata": {
    "execution": {
     "iopub.execute_input": "2023-10-09T22:58:26.661817Z",
     "iopub.status.busy": "2023-10-09T22:58:26.660712Z",
     "iopub.status.idle": "2023-10-09T22:58:26.748744Z",
     "shell.execute_reply": "2023-10-09T22:58:26.746972Z",
     "shell.execute_reply.started": "2023-10-09T22:58:26.661755Z"
    }
   },
   "outputs": [
    {
     "data": {
      "text/plain": [
       "\u001b[0;31mSignature:\u001b[0m \u001b[0mget_bonds\u001b[0m\u001b[0;34m(\u001b[0m\u001b[0mpsf\u001b[0m\u001b[0;34m,\u001b[0m \u001b[0mxtc\u001b[0m\u001b[0;34m,\u001b[0m \u001b[0matom1_name\u001b[0m\u001b[0;34m,\u001b[0m \u001b[0matom2_name\u001b[0m\u001b[0;34m,\u001b[0m \u001b[0mevery\u001b[0m\u001b[0;34m=\u001b[0m\u001b[0;36m1\u001b[0m\u001b[0;34m,\u001b[0m \u001b[0muse_atom_type\u001b[0m\u001b[0;34m=\u001b[0m\u001b[0;32mTrue\u001b[0m\u001b[0;34m)\u001b[0m\u001b[0;34m\u001b[0m\u001b[0;34m\u001b[0m\u001b[0m\n",
       "\u001b[0;31mDocstring:\u001b[0m\n",
       "psf: PSF\n",
       "xtc: XTC\n",
       "atom1_name: atomname of the first atom; ; use atomtype if use_atom_type=True\n",
       "atom2_name: atomname of the second atom\n",
       "every: frequency of calculation\n",
       "use_atom_type: whether use atom type; default=True\n",
       "return: bond length array; unit: Angstrom\n",
       "\u001b[0;31mFile:\u001b[0m      ~/rainier/projects/VAE/ProDynaVAE/utils/traj_analysis.py\n",
       "\u001b[0;31mType:\u001b[0m      function\n"
      ]
     },
     "metadata": {},
     "output_type": "display_data"
    }
   ],
   "source": [
    "get_bonds?"
   ]
  },
  {
   "cell_type": "code",
   "execution_count": 5,
   "id": "4c83ea32-b60c-4ceb-8c12-8d404ee745de",
   "metadata": {
    "execution": {
     "iopub.execute_input": "2023-10-09T22:58:26.757940Z",
     "iopub.status.busy": "2023-10-09T22:58:26.757542Z",
     "iopub.status.idle": "2023-10-09T22:58:37.648740Z",
     "shell.execute_reply": "2023-10-09T22:58:37.647857Z",
     "shell.execute_reply.started": "2023-10-09T22:58:26.757905Z"
    }
   },
   "outputs": [],
   "source": [
    "# use atom types\n",
    "ca_cb_bond_type_list = get_bonds(psf, xtc, 'CT1', 'CT1', every=200, use_atom_type=True)"
   ]
  },
  {
   "cell_type": "code",
   "execution_count": 6,
   "id": "66cc7c9b-c56c-4776-ba17-0996fc664fed",
   "metadata": {
    "execution": {
     "iopub.execute_input": "2023-10-09T22:58:37.650665Z",
     "iopub.status.busy": "2023-10-09T22:58:37.650202Z",
     "iopub.status.idle": "2023-10-09T22:58:47.774604Z",
     "shell.execute_reply": "2023-10-09T22:58:47.771421Z",
     "shell.execute_reply.started": "2023-10-09T22:58:37.650612Z"
    }
   },
   "outputs": [],
   "source": [
    "# use atom name\n",
    "ca_cb_bond_list = get_bonds(psf, xtc, 'CA', 'CB', every=200, use_atom_type=False)"
   ]
  },
  {
   "cell_type": "code",
   "execution_count": 7,
   "id": "6dd650f6-965a-480e-b08e-fef293c9a048",
   "metadata": {
    "execution": {
     "iopub.execute_input": "2023-10-09T22:58:47.780164Z",
     "iopub.status.busy": "2023-10-09T22:58:47.778615Z",
     "iopub.status.idle": "2023-10-09T22:58:48.248741Z",
     "shell.execute_reply": "2023-10-09T22:58:48.247195Z",
     "shell.execute_reply.started": "2023-10-09T22:58:47.780010Z"
    }
   },
   "outputs": [
    {
     "data": {
      "image/png": "[encoded data removed]",
      "text/plain": [
       "<Figure size 720x432 with 1 Axes>"
      ]
     },
     "metadata": {
      "needs_background": "light"
     },
     "output_type": "display_data"
    }
   ],
   "source": [
    "plot_distribution(ca_cb_bond_type_list, bins=20)"
   ]
  },
  {
   "cell_type": "code",
   "execution_count": 8,
   "id": "7c5f6bd5-73b5-4561-ab38-c2f6b5ad5b0a",
   "metadata": {
    "execution": {
     "iopub.execute_input": "2023-10-09T22:58:48.258132Z",
     "iopub.status.busy": "2023-10-09T22:58:48.257572Z",
     "iopub.status.idle": "2023-10-09T22:58:48.612439Z",
     "shell.execute_reply": "2023-10-09T22:58:48.610653Z",
     "shell.execute_reply.started": "2023-10-09T22:58:48.258064Z"
    }
   },
   "outputs": [
    {
     "data": {
      "image/png": "[encoded data removed]",
      "text/plain": [
       "<Figure size 720x432 with 1 Axes>"
      ]
     },
     "metadata": {
      "needs_background": "light"
     },
     "output_type": "display_data"
    }
   ],
   "source": [
    "plot_distribution(ca_cb_bond_list, bins=20)"
   ]
  },
  {
   "cell_type": "markdown",
   "id": "d5f822f3-c2ca-4c68-a36d-554567373afd",
   "metadata": {},
   "source": [
    "# Angles"
   ]
  },
  {
   "cell_type": "code",
   "execution_count": 9,
   "id": "3e2bef3f-8436-433a-bb19-ba55b04be9cc",
   "metadata": {
    "execution": {
     "iopub.execute_input": "2023-10-09T22:58:48.616956Z",
     "iopub.status.busy": "2023-10-09T22:58:48.616173Z",
     "iopub.status.idle": "2023-10-09T22:58:48.687069Z",
     "shell.execute_reply": "2023-10-09T22:58:48.685977Z",
     "shell.execute_reply.started": "2023-10-09T22:58:48.616906Z"
    }
   },
   "outputs": [
    {
     "data": {
      "text/plain": [
       "\u001b[0;31mSignature:\u001b[0m\n",
       "\u001b[0mget_angles\u001b[0m\u001b[0;34m(\u001b[0m\u001b[0;34m\u001b[0m\n",
       "\u001b[0;34m\u001b[0m    \u001b[0mpsf\u001b[0m\u001b[0;34m,\u001b[0m\u001b[0;34m\u001b[0m\n",
       "\u001b[0;34m\u001b[0m    \u001b[0mxtc\u001b[0m\u001b[0;34m,\u001b[0m\u001b[0;34m\u001b[0m\n",
       "\u001b[0;34m\u001b[0m    \u001b[0matom1_name\u001b[0m\u001b[0;34m,\u001b[0m\u001b[0;34m\u001b[0m\n",
       "\u001b[0;34m\u001b[0m    \u001b[0matom2_name\u001b[0m\u001b[0;34m,\u001b[0m\u001b[0;34m\u001b[0m\n",
       "\u001b[0;34m\u001b[0m    \u001b[0matom3_name\u001b[0m\u001b[0;34m,\u001b[0m\u001b[0;34m\u001b[0m\n",
       "\u001b[0;34m\u001b[0m    \u001b[0mevery\u001b[0m\u001b[0;34m=\u001b[0m\u001b[0;36m1\u001b[0m\u001b[0;34m,\u001b[0m\u001b[0;34m\u001b[0m\n",
       "\u001b[0;34m\u001b[0m    \u001b[0muse_atom_type\u001b[0m\u001b[0;34m=\u001b[0m\u001b[0;32mTrue\u001b[0m\u001b[0;34m,\u001b[0m\u001b[0;34m\u001b[0m\n",
       "\u001b[0;34m\u001b[0m\u001b[0;34m)\u001b[0m\u001b[0;34m\u001b[0m\u001b[0;34m\u001b[0m\u001b[0m\n",
       "\u001b[0;31mDocstring:\u001b[0m\n",
       "psf: PSF\n",
       "xtc: XTC\n",
       "atom1_name: atomname of the first atom; use atomtype if use_atom_type=True\n",
       "atom2_name: atomname of the second atom\n",
       "atom3_name: atomname of the third atom\n",
       "every: frequency of calculation\n",
       "use_atom_type: whether use atom type; default=False\n",
       "return: angle list in degrees\n",
       "\u001b[0;31mFile:\u001b[0m      ~/rainier/projects/VAE/ProDynaVAE/utils/traj_analysis.py\n",
       "\u001b[0;31mType:\u001b[0m      function\n"
      ]
     },
     "metadata": {},
     "output_type": "display_data"
    }
   ],
   "source": [
    "get_angles?"
   ]
  },
  {
   "cell_type": "code",
   "execution_count": 10,
   "id": "fabd71a7-4eef-4ccd-a44c-4b8ac038b0b7",
   "metadata": {
    "execution": {
     "iopub.execute_input": "2023-10-09T22:58:48.689006Z",
     "iopub.status.busy": "2023-10-09T22:58:48.688507Z",
     "iopub.status.idle": "2023-10-09T22:59:10.960935Z",
     "shell.execute_reply": "2023-10-09T22:59:10.959700Z",
     "shell.execute_reply.started": "2023-10-09T22:58:48.688948Z"
    }
   },
   "outputs": [],
   "source": [
    "angles = get_angles(psf, xtc, 'N', 'CA', 'CB', every=200, use_atom_type=False)"
   ]
  },
  {
   "cell_type": "code",
   "execution_count": 11,
   "id": "d851c259-9afc-41e6-abf7-19284fbcd4f9",
   "metadata": {
    "execution": {
     "iopub.execute_input": "2023-10-09T22:59:10.962644Z",
     "iopub.status.busy": "2023-10-09T22:59:10.962276Z",
     "iopub.status.idle": "2023-10-09T22:59:11.346838Z",
     "shell.execute_reply": "2023-10-09T22:59:11.345056Z",
     "shell.execute_reply.started": "2023-10-09T22:59:10.962609Z"
    }
   },
   "outputs": [
    {
     "data": {
      "image/png": "[encoded data removed]",
      "text/plain": [
       "<Figure size 720x432 with 1 Axes>"
      ]
     },
     "metadata": {
      "needs_background": "light"
     },
     "output_type": "display_data"
    }
   ],
   "source": [
    "plot_distribution(angles, bins=30)"
   ]
  },
  {
   "cell_type": "markdown",
   "id": "75286738-e231-4adf-ae05-a91f977eafe6",
   "metadata": {},
   "source": [
    "# Dihedrals"
   ]
  },
  {
   "cell_type": "code",
   "execution_count": 12,
   "id": "b71c2bfd-6f2e-4bcb-a79d-eb4a18132d85",
   "metadata": {
    "execution": {
     "iopub.execute_input": "2023-10-09T22:59:11.350079Z",
     "iopub.status.busy": "2023-10-09T22:59:11.349503Z",
     "iopub.status.idle": "2023-10-09T22:59:11.419723Z",
     "shell.execute_reply": "2023-10-09T22:59:11.418522Z",
     "shell.execute_reply.started": "2023-10-09T22:59:11.350026Z"
    }
   },
   "outputs": [
    {
     "data": {
      "text/plain": [
       "\u001b[0;31mSignature:\u001b[0m \u001b[0mget_bb_impropers\u001b[0m\u001b[0;34m(\u001b[0m\u001b[0mpsf\u001b[0m\u001b[0;34m,\u001b[0m \u001b[0mxtc\u001b[0m\u001b[0;34m,\u001b[0m \u001b[0mevery\u001b[0m\u001b[0;34m=\u001b[0m\u001b[0;36m1\u001b[0m\u001b[0;34m)\u001b[0m\u001b[0;34m\u001b[0m\u001b[0;34m\u001b[0m\u001b[0m\n",
       "\u001b[0;31mDocstring:\u001b[0m\n",
       "psf: PSF\n",
       "xtc: XTC\n",
       "every: frequency of calculation\n",
       "return: impropers in degrees\n",
       "\u001b[0;31mFile:\u001b[0m      ~/rainier/projects/VAE/ProDynaVAE/utils/traj_analysis.py\n",
       "\u001b[0;31mType:\u001b[0m      function\n"
      ]
     },
     "metadata": {},
     "output_type": "display_data"
    }
   ],
   "source": [
    "get_bb_impropers?\n",
    "\n",
    "# each peptide bond has two backbone dihedrals\n",
    "# 1. C CT1 NH1 O\n",
    "# 2. NH1 C CT1 H"
   ]
  },
  {
   "cell_type": "code",
   "execution_count": 13,
   "id": "f35534c8-7850-4e54-99c4-311335e8caf0",
   "metadata": {
    "execution": {
     "iopub.execute_input": "2023-10-09T22:59:11.423463Z",
     "iopub.status.busy": "2023-10-09T22:59:11.422760Z",
     "iopub.status.idle": "2023-10-09T22:59:18.803362Z",
     "shell.execute_reply": "2023-10-09T22:59:18.800391Z",
     "shell.execute_reply.started": "2023-10-09T22:59:11.423394Z"
    }
   },
   "outputs": [],
   "source": [
    "bbimpropers = get_bb_impropers(psf, xtc, every=200)"
   ]
  },
  {
   "cell_type": "code",
   "execution_count": 14,
   "id": "d5434dc5-6a93-4015-98d7-c1b028ecdfb5",
   "metadata": {
    "execution": {
     "iopub.execute_input": "2023-10-09T22:59:18.808970Z",
     "iopub.status.busy": "2023-10-09T22:59:18.807794Z",
     "iopub.status.idle": "2023-10-09T22:59:19.137756Z",
     "shell.execute_reply": "2023-10-09T22:59:19.135867Z",
     "shell.execute_reply.started": "2023-10-09T22:59:18.808856Z"
    }
   },
   "outputs": [
    {
     "data": {
      "image/png": "[encoded data removed]",
      "text/plain": [
       "<Figure size 720x432 with 1 Axes>"
      ]
     },
     "metadata": {
      "needs_background": "light"
     },
     "output_type": "display_data"
    }
   ],
   "source": [
    "plot_distribution(bbimpropers, bins=30)"
   ]
  },
  {
   "cell_type": "code",
   "execution_count": 15,
   "id": "397f58a6-8a42-47a9-8960-a207048e14c5",
   "metadata": {
    "execution": {
     "iopub.execute_input": "2023-10-09T22:59:19.140480Z",
     "iopub.status.busy": "2023-10-09T22:59:19.139907Z",
     "iopub.status.idle": "2023-10-09T22:59:19.150263Z",
     "shell.execute_reply": "2023-10-09T22:59:19.148294Z",
     "shell.execute_reply.started": "2023-10-09T22:59:19.140425Z"
    }
   },
   "outputs": [
    {
     "data": {
      "text/plain": [
       "\u001b[0;31mSignature:\u001b[0m \u001b[0mget_omegas\u001b[0m\u001b[0;34m(\u001b[0m\u001b[0mpsf\u001b[0m\u001b[0;34m,\u001b[0m \u001b[0mxtc\u001b[0m\u001b[0;34m,\u001b[0m \u001b[0mevery\u001b[0m\u001b[0;34m=\u001b[0m\u001b[0;36m1\u001b[0m\u001b[0;34m)\u001b[0m\u001b[0;34m\u001b[0m\u001b[0;34m\u001b[0m\u001b[0m\n",
       "\u001b[0;31mDocstring:\u001b[0m\n",
       "psf: PSF\n",
       "xtc: XTC\n",
       "every: frequency of calculation\n",
       "return: array of omega values (in degrees)\n",
       "\u001b[0;31mFile:\u001b[0m      ~/rainier/projects/VAE/ProDynaVAE/utils/traj_analysis.py\n",
       "\u001b[0;31mType:\u001b[0m      function\n"
      ]
     },
     "metadata": {},
     "output_type": "display_data"
    }
   ],
   "source": [
    "get_omegas?"
   ]
  },
  {
   "cell_type": "code",
   "execution_count": 16,
   "id": "8ad26ef0-f8cc-486f-ba64-7e9610fb8f2b",
   "metadata": {
    "execution": {
     "iopub.execute_input": "2023-10-09T22:59:19.152643Z",
     "iopub.status.busy": "2023-10-09T22:59:19.152066Z",
     "iopub.status.idle": "2023-10-09T22:59:23.631563Z",
     "shell.execute_reply": "2023-10-09T22:59:23.629426Z",
     "shell.execute_reply.started": "2023-10-09T22:59:19.152594Z"
    }
   },
   "outputs": [],
   "source": [
    "omegas = get_omegas(psf, xtc, every=200)"
   ]
  },
  {
   "cell_type": "code",
   "execution_count": 17,
   "id": "bfcb447e-f3bc-4de3-b7e5-a81d848d5d16",
   "metadata": {
    "execution": {
     "iopub.execute_input": "2023-10-09T22:59:23.637869Z",
     "iopub.status.busy": "2023-10-09T22:59:23.636566Z",
     "iopub.status.idle": "2023-10-09T22:59:24.019807Z",
     "shell.execute_reply": "2023-10-09T22:59:24.017753Z",
     "shell.execute_reply.started": "2023-10-09T22:59:23.637808Z"
    }
   },
   "outputs": [
    {
     "data": {
      "image/png": "[encoded data removed]",
      "text/plain": [
       "<Figure size 720x432 with 1 Axes>"
      ]
     },
     "metadata": {
      "needs_background": "light"
     },
     "output_type": "display_data"
    }
   ],
   "source": [
    "plot_distribution(omegas, bins=30)"
   ]
  },
  {
   "cell_type": "code",
   "execution_count": 18,
   "id": "a3a579bd-3791-4cfd-a982-122a8fbe6226",
   "metadata": {
    "execution": {
     "iopub.execute_input": "2023-10-09T22:59:24.023114Z",
     "iopub.status.busy": "2023-10-09T22:59:24.022492Z",
     "iopub.status.idle": "2023-10-09T22:59:24.034880Z",
     "shell.execute_reply": "2023-10-09T22:59:24.031705Z",
     "shell.execute_reply.started": "2023-10-09T22:59:24.023056Z"
    }
   },
   "outputs": [
    {
     "data": {
      "text/plain": [
       "\u001b[0;31mSignature:\u001b[0m\n",
       "\u001b[0mget_dihedrals\u001b[0m\u001b[0;34m(\u001b[0m\u001b[0;34m\u001b[0m\n",
       "\u001b[0;34m\u001b[0m    \u001b[0mpsf\u001b[0m\u001b[0;34m,\u001b[0m\u001b[0;34m\u001b[0m\n",
       "\u001b[0;34m\u001b[0m    \u001b[0mxtc\u001b[0m\u001b[0;34m,\u001b[0m\u001b[0;34m\u001b[0m\n",
       "\u001b[0;34m\u001b[0m    \u001b[0matom1_name\u001b[0m\u001b[0;34m,\u001b[0m\u001b[0;34m\u001b[0m\n",
       "\u001b[0;34m\u001b[0m    \u001b[0matom2_name\u001b[0m\u001b[0;34m,\u001b[0m\u001b[0;34m\u001b[0m\n",
       "\u001b[0;34m\u001b[0m    \u001b[0matom3_name\u001b[0m\u001b[0;34m,\u001b[0m\u001b[0;34m\u001b[0m\n",
       "\u001b[0;34m\u001b[0m    \u001b[0matom4_name\u001b[0m\u001b[0;34m,\u001b[0m\u001b[0;34m\u001b[0m\n",
       "\u001b[0;34m\u001b[0m    \u001b[0mevery\u001b[0m\u001b[0;34m=\u001b[0m\u001b[0;36m1\u001b[0m\u001b[0;34m,\u001b[0m\u001b[0;34m\u001b[0m\n",
       "\u001b[0;34m\u001b[0m    \u001b[0muse_atom_type\u001b[0m\u001b[0;34m=\u001b[0m\u001b[0;32mTrue\u001b[0m\u001b[0;34m,\u001b[0m\u001b[0;34m\u001b[0m\n",
       "\u001b[0;34m\u001b[0m\u001b[0;34m)\u001b[0m\u001b[0;34m\u001b[0m\u001b[0;34m\u001b[0m\u001b[0m\n",
       "\u001b[0;31mDocstring:\u001b[0m\n",
       "psf: PSF\n",
       "xtc: XTC\n",
       "atom1_name: atomname of the first atom; ; use atomtype if use_atom_type=True\n",
       "atom2_name: atomname of the second atom\n",
       "atom3_name: atomname of the third atom\n",
       "atom4_name: atomname of the fourth atom\n",
       "every: frequency of querying the trajectory\n",
       "use_atom_type: whether use atom type; default=True\n",
       "return: dihedral array in degrees\n",
       "\u001b[0;31mFile:\u001b[0m      ~/rainier/projects/VAE/ProDynaVAE/utils/traj_analysis.py\n",
       "\u001b[0;31mType:\u001b[0m      function\n"
      ]
     },
     "metadata": {},
     "output_type": "display_data"
    }
   ],
   "source": [
    "# a more general dihedral\n",
    "get_dihedrals?"
   ]
  },
  {
   "cell_type": "code",
   "execution_count": 19,
   "id": "bc2e3c4b-c948-4c11-8c37-dc382d37cf1b",
   "metadata": {
    "execution": {
     "iopub.execute_input": "2023-10-09T22:59:24.039254Z",
     "iopub.status.busy": "2023-10-09T22:59:24.037771Z",
     "iopub.status.idle": "2023-10-09T22:59:57.421652Z",
     "shell.execute_reply": "2023-10-09T22:59:57.419546Z",
     "shell.execute_reply.started": "2023-10-09T22:59:24.039191Z"
    }
   },
   "outputs": [],
   "source": [
    "dihe_example = get_dihedrals(psf, xtc, 'N', 'CA', 'C', 'N', every=200, use_atom_type=False)"
   ]
  },
  {
   "cell_type": "code",
   "execution_count": 27,
   "id": "1ab49feb-29f5-438a-8c1c-088b71950154",
   "metadata": {
    "execution": {
     "iopub.execute_input": "2023-10-09T23:00:26.298630Z",
     "iopub.status.busy": "2023-10-09T23:00:26.297014Z",
     "iopub.status.idle": "2023-10-09T23:00:26.826068Z",
     "shell.execute_reply": "2023-10-09T23:00:26.823318Z",
     "shell.execute_reply.started": "2023-10-09T23:00:26.298462Z"
    }
   },
   "outputs": [
    {
     "data": {
      "image/png": "[encoded data removed]",
      "text/plain": [
       "<Figure size 720x432 with 1 Axes>"
      ]
     },
     "metadata": {
      "needs_background": "light"
     },
     "output_type": "display_data"
    }
   ],
   "source": [
    "plot_distribution(dihe_example, bins=50)"
   ]
  },
  {
   "cell_type": "markdown",
   "id": "09d4173a-0429-481c-b921-93531b817eb9",
   "metadata": {},
   "source": [
    "# Testing: Gaussian distributions\n",
    "\n",
    "bonds:\n",
    "\n",
    "$energy = 0.5 * k_b * (x - b0)^2$\n",
    "\n",
    "for CT1-CT1 bonds:\n",
    "\n",
    "$k_b = 1.861880e+05$\n",
    "\n",
    "$b_0 = 1.500000e-01$\n",
    "\n",
    "the ideal Gaussian distribution:\n",
    "\n",
    "$e^{-\\beta * 0.5 * k_b *(b - b_0)^2}$"
   ]
  },
  {
   "cell_type": "code",
   "execution_count": 21,
   "id": "9f2c3c76-bee1-4dab-90a5-2d1a9307148f",
   "metadata": {
    "execution": {
     "iopub.execute_input": "2023-10-09T22:59:57.470185Z",
     "iopub.status.busy": "2023-10-09T22:59:57.469601Z",
     "iopub.status.idle": "2023-10-09T22:59:57.475681Z",
     "shell.execute_reply": "2023-10-09T22:59:57.473949Z",
     "shell.execute_reply.started": "2023-10-09T22:59:57.470128Z"
    }
   },
   "outputs": [],
   "source": [
    "# unit: ang\n",
    "b0 = 1.5"
   ]
  },
  {
   "cell_type": "code",
   "execution_count": 22,
   "id": "30d1b96d-bf84-4d56-bdd9-d65354283bf8",
   "metadata": {
    "execution": {
     "iopub.execute_input": "2023-10-09T22:59:57.477565Z",
     "iopub.status.busy": "2023-10-09T22:59:57.477067Z",
     "iopub.status.idle": "2023-10-09T22:59:57.484910Z",
     "shell.execute_reply": "2023-10-09T22:59:57.483355Z",
     "shell.execute_reply.started": "2023-10-09T22:59:57.477504Z"
    }
   },
   "outputs": [],
   "source": [
    "# unit: kj / (mol * ang^2)\n",
    "kb = 1.86188e3"
   ]
  },
  {
   "cell_type": "code",
   "execution_count": 23,
   "id": "8ded6ed6-f125-4235-9357-4623da86f984",
   "metadata": {
    "execution": {
     "iopub.execute_input": "2023-10-09T22:59:57.487250Z",
     "iopub.status.busy": "2023-10-09T22:59:57.486647Z",
     "iopub.status.idle": "2023-10-09T22:59:57.499425Z",
     "shell.execute_reply": "2023-10-09T22:59:57.498004Z",
     "shell.execute_reply.started": "2023-10-09T22:59:57.487191Z"
    }
   },
   "outputs": [],
   "source": [
    "# unit: kj\n",
    "beta = 1/ (1.380649e-23 * 298)"
   ]
  },
  {
   "cell_type": "code",
   "execution_count": 24,
   "id": "0e2a49eb-1360-455f-a634-90794221b8d3",
   "metadata": {
    "execution": {
     "iopub.execute_input": "2023-10-09T22:59:57.501374Z",
     "iopub.status.busy": "2023-10-09T22:59:57.500869Z",
     "iopub.status.idle": "2023-10-09T22:59:57.512449Z",
     "shell.execute_reply": "2023-10-09T22:59:57.511254Z",
     "shell.execute_reply.started": "2023-10-09T22:59:57.501317Z"
    }
   },
   "outputs": [
    {
     "data": {
      "text/plain": [
       "2.4305270188053424e+20"
      ]
     },
     "execution_count": 24,
     "metadata": {},
     "output_type": "execute_result"
    }
   ],
   "source": [
    "beta"
   ]
  },
  {
   "cell_type": "code",
   "execution_count": null,
   "id": "b88386a4-43f6-4330-8625-59955d5263ae",
   "metadata": {
    "execution": {
     "iopub.status.busy": "2023-10-09T22:59:58.381946Z",
     "iopub.status.idle": "2023-10-09T22:59:58.382613Z",
     "shell.execute_reply": "2023-10-09T22:59:58.382373Z"
    }
   },
   "outputs": [],
   "source": [
    "np.sum(y)"
   ]
  },
  {
   "cell_type": "code",
   "execution_count": null,
   "id": "eb68dffb-b58f-4118-b8e4-cd7c668fa621",
   "metadata": {
    "execution": {
     "iopub.status.busy": "2023-10-09T22:59:58.384269Z",
     "iopub.status.idle": "2023-10-09T22:59:58.384919Z",
     "shell.execute_reply": "2023-10-09T22:59:58.384567Z"
    }
   },
   "outputs": [],
   "source": [
    "data = ca_cb_bond_type_list.flatten()\n",
    "bin_number=100\n",
    "\n",
    "fig, ax = plt.subplots(figsize=(8, 8))\n",
    "n, bins, patches = ax.hist(data, bin_number, density=True, alpha=0.75, color='green', edgecolor='gray')\n",
    "ax.plot(x, y/(x[1] - x[0]), 'r--')\n",
    "# ax.grid(which='major', color='#DDDDDD', linewidth=0.8)\n",
    "# ax.set_ylim([0, 1])\n",
    "ax.set_xlabel(\"CV\", fontsize=16)\n",
    "ax.set_ylabel(\"Probability\", fontsize=16)\n",
    "ax.tick_params(axis='both', which='major', length=10, labelsize=16)\n",
    "# ax.yaxis.set_major_formatter(FormatStrFormatter('%.2f'))\n",
    "# ax.xaxis.set_major_formatter(FormatStrFormatter('%.2f'))\n",
    "plt.show()"
   ]
  },
  {
   "cell_type": "code",
   "execution_count": null,
   "id": "4803cb3e-096e-4f0d-9007-9567baf770a0",
   "metadata": {},
   "outputs": [],
   "source": []
  }
 ],
 "metadata": {
  "kernelspec": {
   "display_name": "Python 3",
   "language": "python",
   "name": "python3"
  },
  "language_info": {
   "codemirror_mode": {
    "name": "ipython",
    "version": 3
   },
   "file_extension": ".py",
   "mimetype": "text/x-python",
   "name": "python",
   "nbconvert_exporter": "python",
   "pygments_lexer": "ipython3",
   "version": "3.9.13"
  }
 },
 "nbformat": 4,
 "nbformat_minor": 5
}
