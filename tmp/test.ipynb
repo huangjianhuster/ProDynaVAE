{
 "cells": [
  {
   "cell_type": "code",
   "execution_count": 6,
   "id": "401ec8ad-3738-4b1b-8333-d758d57c0c08",
   "metadata": {},
   "outputs": [],
   "source": [
    "import MDAnalysis as mda\n",
    "import MDAnalysis.transformations as trans\n",
    "from MDAnalysis.analysis import align\n",
    "import MDAnalysis.analysis.rms as rms\n",
    "import numpy as np\n",
    "from MDAnalysis.tests.datafiles import CRD, PSF, DCD, DCD2"
   ]
  },
  {
   "cell_type": "code",
   "execution_count": 15,
   "id": "f80784a3-47cc-4551-8d61-c1bd1b4c39c7",
   "metadata": {},
   "outputs": [],
   "source": [
    "def traj_align(psf, xtc, out_xtc, center=True):\n",
    "    \"\"\"\n",
    "    psf: PSF; TPR for the simulation system;\n",
    "    xtc: XTC or DCD format;\n",
    "    out_xtc: aligned output trajectory path;\n",
    "    center: whether center the protein to the center of the box;\n",
    "\n",
    "    !!! default: align the trajectory with respect to the first frame [hard coded!]\n",
    "    return None\n",
    "    \"\"\"\n",
    "    u = mda.Universe(psf, xtc)\n",
    "    ref = mda.Universe(psf, xtc)\n",
    "    ref.trajectory[0]\n",
    "\n",
    "    # Center protein in the center of the box\n",
    "    if center:\n",
    "        protein = u.select_atoms('protein')\n",
    "        not_protein = u.select_atoms('not protein')\n",
    "        for ts in u.trajectory:\n",
    "            protein.unwrap(compound='fragments')\n",
    "            protein_center = protein.center_of_mass(pbc=True)\n",
    "            dim = ts.triclinic_dimensions\n",
    "            box_center = np.sum(dim, axis=0) / 2\n",
    "            # translate all atoms\n",
    "            u.atoms.translate(box_center - protein_center)\n",
    "            # wrap all solvent part back to the box\n",
    "            not_protein.wrap(compound='residues')\n",
    "            \n",
    "    # align using C-alpha atoms\n",
    "    align.AlignTraj(u, # universe object; trajectory to align\n",
    "                    ref, # reference\n",
    "                    select='name CA', # selection of atoms to align\n",
    "                    filename=out_xtc, \n",
    "                    match_atoms=True, \n",
    "                   ).run()\n",
    "\n",
    "    return None\n"
   ]
  },
  {
   "cell_type": "code",
   "execution_count": 12,
   "id": "20a477f0-51aa-4d36-9269-cd0beb12a030",
   "metadata": {},
   "outputs": [
    {
     "name": "stderr",
     "output_type": "stream",
     "text": [
      "/home/jianhuang/miniconda3/envs/mda/lib/python3.9/site-packages/MDAnalysis/coordinates/DCD.py:165: DeprecationWarning: DCDReader currently makes independent timesteps by copying self.ts while other readers update self.ts inplace. This behavior will be changed in 3.0 to be the same as other readers. Read more at https://github.com/MDAnalysis/mdanalysis/issues/3889 to learn if this change in behavior might affect you.\n",
      "  warnings.warn(\"DCDReader currently makes independent timesteps\"\n"
     ]
    }
   ],
   "source": [
    "adk_open = mda.Universe(CRD, DCD2)\n",
    "adk_closed = mda.Universe(PSF, DCD)"
   ]
  },
  {
   "cell_type": "code",
   "execution_count": 16,
   "id": "a403d158-f526-4ea0-a017-5fee3876afce",
   "metadata": {},
   "outputs": [],
   "source": [
    "traj_align(PSF, DCD, \"./tmp/test.xtc\", center=False)"
   ]
  },
  {
   "cell_type": "code",
   "execution_count": 21,
   "id": "f4e0ab22-b5eb-4bef-9f2c-764adba04b76",
   "metadata": {},
   "outputs": [
    {
     "name": "stderr",
     "output_type": "stream",
     "text": [
      "/home/jianhuang/miniconda3/envs/mda/lib/python3.9/site-packages/MDAnalysis/coordinates/DCD.py:165: DeprecationWarning: DCDReader currently makes independent timesteps by copying self.ts while other readers update self.ts inplace. This behavior will be changed in 3.0 to be the same as other readers. Read more at https://github.com/MDAnalysis/mdanalysis/issues/3889 to learn if this change in behavior might affect you.\n",
      "  warnings.warn(\"DCDReader currently makes independent timesteps\"\n"
     ]
    },
    {
     "data": {
      "application/vnd.jupyter.widget-view+json": {
       "model_id": "0a716596b8264cfa86421125b3d764d9",
       "version_major": 2,
       "version_minor": 0
      },
      "text/plain": [
       "NGLWidget(max_frame=97)"
      ]
     },
     "metadata": {},
     "output_type": "display_data"
    }
   ],
   "source": [
    "u = mda.Universe(PSF, DCD)\n",
    "view = nv.show_mdanalysis(u)\n",
    "view.add_representation('point', 'resname SOL')\n",
    "view.center()\n",
    "view"
   ]
  },
  {
   "cell_type": "code",
   "execution_count": 22,
   "id": "c1a358e8-ff5c-4e69-93bc-5097511f109d",
   "metadata": {},
   "outputs": [
    {
     "name": "stderr",
     "output_type": "stream",
     "text": [
      "/home/jianhuang/miniconda3/envs/mda/lib/python3.9/site-packages/MDAnalysis/lib/mdamath.py:295: RuntimeWarning: invalid value encountered in scalar divide\n",
      "  alpha = np.rad2deg(np.arccos(np.dot(y, z) / (ly * lz)))\n",
      "/home/jianhuang/miniconda3/envs/mda/lib/python3.9/site-packages/MDAnalysis/lib/mdamath.py:296: RuntimeWarning: invalid value encountered in scalar divide\n",
      "  beta = np.rad2deg(np.arccos(np.dot(x, z) / (lx * lz)))\n",
      "/home/jianhuang/miniconda3/envs/mda/lib/python3.9/site-packages/MDAnalysis/lib/mdamath.py:297: RuntimeWarning: invalid value encountered in scalar divide\n",
      "  gamma = np.rad2deg(np.arccos(np.dot(x, y) / (lx * ly)))\n"
     ]
    },
    {
     "data": {
      "application/vnd.jupyter.widget-view+json": {
       "model_id": "a016c3e2b4be4cefa8349d227a2a536a",
       "version_major": 2,
       "version_minor": 0
      },
      "text/plain": [
       "NGLWidget(max_frame=97)"
      ]
     },
     "metadata": {},
     "output_type": "display_data"
    }
   ],
   "source": [
    "u = mda.Universe(PSF, \"./tmp/test.xtc\")\n",
    "view = nv.show_mdanalysis(u)\n",
    "view.add_representation('point', 'resname SOL')\n",
    "view.center()\n",
    "view"
   ]
  },
  {
   "cell_type": "code",
   "execution_count": 23,
   "id": "6c2ba21e-4eb5-4f9e-b0f7-3b973205073a",
   "metadata": {},
   "outputs": [],
   "source": [
    "def traj_align_onfly(psf, xtc, out_xtc, center=True):\n",
    "    \"\"\"\n",
    "    psf: PSF; TPR for the simulation system;\n",
    "    xtc: XTC or DCD format;\n",
    "    out_xtc: aligned output trajectory path;\n",
    "    center: whether center the protein to the center of the box;\n",
    "\n",
    "    !!! default: align the trajectory with respect to the first frame [hard coded!]\n",
    "    return None\n",
    "    \"\"\"\n",
    "    u = mda.Universe(psf, xtc)\n",
    "    ref = mda.Universe(psf, xtc)\n",
    "    ref.trajectory[0]\n",
    "    if center:\n",
    "        protein = u.select_atoms('protein')\n",
    "        not_protein = u.select_atoms('not protein')\n",
    "        transforms = [trans.unwrap(protein),\n",
    "                trans.center_in_box(protein, wrap=True),\n",
    "                trans.wrap(not_protein)]\n",
    "\n",
    "        u.trajectory.add_transformations(*transforms)\n",
    "\n",
    "    # align using C-alpha atoms\n",
    "    align.AlignTraj(u, # universe object; trajectory to align\n",
    "                    ref, # reference\n",
    "                    select='name CA', # selection of atoms to align\n",
    "                    filename=out_xtc,\n",
    "                    match_atoms=True,\n",
    "                   ).run()\n",
    "\n",
    "    return None\n"
   ]
  },
  {
   "cell_type": "code",
   "execution_count": 24,
   "id": "42e99b2a-33f9-4698-8952-094e05f1e215",
   "metadata": {},
   "outputs": [
    {
     "name": "stderr",
     "output_type": "stream",
     "text": [
      "/home/jianhuang/miniconda3/envs/mda/lib/python3.9/site-packages/MDAnalysis/coordinates/DCD.py:165: DeprecationWarning: DCDReader currently makes independent timesteps by copying self.ts while other readers update self.ts inplace. This behavior will be changed in 3.0 to be the same as other readers. Read more at https://github.com/MDAnalysis/mdanalysis/issues/3889 to learn if this change in behavior might affect you.\n",
      "  warnings.warn(\"DCDReader currently makes independent timesteps\"\n"
     ]
    },
    {
     "data": {
      "application/vnd.jupyter.widget-view+json": {
       "model_id": "e0e1ab160a264b79a64f96adbae151fa",
       "version_major": 2,
       "version_minor": 0
      },
      "text/plain": [
       "NGLWidget(max_frame=97)"
      ]
     },
     "metadata": {},
     "output_type": "display_data"
    }
   ],
   "source": [
    "traj_align(PSF, DCD, \"./tmp/test2.xtc\", center=False)\n",
    "u = mda.Universe(PSF, \"./tmp/test2.xtc\")\n",
    "view = nv.show_mdanalysis(u)\n",
    "view.add_representation('point', 'resname SOL')\n",
    "view.center()\n",
    "view"
   ]
  },
  {
   "cell_type": "code",
   "execution_count": 37,
   "id": "24416c20-317b-4e66-8a9d-63a9d7cad445",
   "metadata": {
    "scrolled": true
   },
   "outputs": [
    {
     "name": "stderr",
     "output_type": "stream",
     "text": [
      "/home/jianhuang/miniconda3/envs/mda/lib/python3.9/site-packages/MDAnalysis/coordinates/DCD.py:165: DeprecationWarning: DCDReader currently makes independent timesteps by copying self.ts while other readers update self.ts inplace. This behavior will be changed in 3.0 to be the same as other readers. Read more at https://github.com/MDAnalysis/mdanalysis/issues/3889 to learn if this change in behavior might affect you.\n",
      "  warnings.warn(\"DCDReader currently makes independent timesteps\"\n"
     ]
    },
    {
     "data": {
      "text/plain": [
       "<MDAnalysis.analysis.rms.RMSD at 0x7f24c2c62250>"
      ]
     },
     "execution_count": 37,
     "metadata": {},
     "output_type": "execute_result"
    }
   ],
   "source": [
    "psf, xtc = PSF, DCD\n",
    "u = mda.Universe(psf, xtc)\n",
    "ref = mda.Universe(psf, xtc)\n",
    "R = rms.RMSD(u, ref, select=\"name CA\", groupselections=[\"protein\",])\n",
    "R.run()\n"
   ]
  },
  {
   "cell_type": "code",
   "execution_count": 48,
   "id": "ff002180-118a-4cf3-9757-0d364db1b1ef",
   "metadata": {},
   "outputs": [
    {
     "data": {
      "text/plain": [
       "Text(0, 0.5, 'RMSD ($\\\\AA$)')"
      ]
     },
     "execution_count": 48,
     "metadata": {},
     "output_type": "execute_result"
    },
    {
     "data": {
      "image/png": "[encoded data removed]",
      "text/plain": [
       "<Figure size 400x400 with 1 Axes>"
      ]
     },
     "metadata": {},
     "output_type": "display_data"
    }
   ],
   "source": [
    "import matplotlib.pyplot as plt\n",
    "rmsd = R.rmsd.T   # transpose makes it easier for plotting\n",
    "time = rmsd[1]\n",
    "fig = plt.figure(figsize=(4,4))\n",
    "ax = fig.add_subplot(111)\n",
    "ax.plot(time, rmsd[2], 'k-',  label=\"C-alpha\")\n",
    "ax.plot(time, rmsd[3], 'k--', label=\"All\")\n",
    "# ax.plot(time, rmsd[4], 'r--', label=\"LID\")\n",
    "# ax.plot(time, rmsd[5], 'b--', label=\"NMP\")\n",
    "ax.legend(loc=\"best\")\n",
    "ax.set_xlabel(\"time (ps)\")\n",
    "ax.set_ylabel(r\"RMSD ($\\AA$)\")"
   ]
  },
  {
   "cell_type": "code",
   "execution_count": 3,
   "id": "abcace63-c953-41f8-883e-91af45c22858",
   "metadata": {},
   "outputs": [],
   "source": [
    "\n"
   ]
  },
  {
   "cell_type": "code",
   "execution_count": 1,
   "id": "c2365034-f0b0-4195-bb9f-df7bc34c128f",
   "metadata": {},
   "outputs": [
    {
     "data": {
      "application/vnd.jupyter.widget-view+json": {
       "model_id": "17746c4f700e4833a18b20408674383f",
       "version_major": 2,
       "version_minor": 0
      },
      "text/plain": []
     },
     "metadata": {},
     "output_type": "display_data"
    }
   ],
   "source": [
    "from utils.traj_process import *\n",
    "import nglview as nv\n",
    "\n",
    "psf = \"./tmp/step3_input.psf\"\n",
    "xtc = \"./tmp/prod_step_5.xtc\""
   ]
  },
  {
   "cell_type": "code",
   "execution_count": 2,
   "id": "89a7f7cf-5a64-4a98-8c33-91a4ca22052e",
   "metadata": {},
   "outputs": [],
   "source": [
    "u = mda.Universe(psf, xtc)\n"
   ]
  },
  {
   "cell_type": "code",
   "execution_count": 3,
   "id": "effbd840-f318-45b1-80af-cc6887dfb9d8",
   "metadata": {},
   "outputs": [
    {
     "data": {
      "application/vnd.jupyter.widget-view+json": {
       "model_id": "9f60d25b9d3d427282362f4f663a98ba",
       "version_major": 2,
       "version_minor": 0
      },
      "text/plain": [
       "NGLWidget(max_frame=20000)"
      ]
     },
     "metadata": {},
     "output_type": "display_data"
    }
   ],
   "source": [
    "view = nv.show_mdanalysis(u)\n",
    "view.add_representation('point', 'RESNAME TIP3')\n",
    "view.center()\n",
    "view"
   ]
  },
  {
   "cell_type": "code",
   "execution_count": 6,
   "id": "ce543254-6f89-4e95-bd93-26e389508c4c",
   "metadata": {},
   "outputs": [],
   "source": [
    "def extract_pro(psf, xtc, out_psf, out_xtc):\n",
    "\n",
    "    u = mda.Universe(psf, xtc)\n",
    "    protein = u.select_atoms('protein')\n",
    "    protein_psf = protein.convert_to(\"PARMED\")\n",
    "    protein_psf.save(out_psf)\n",
    "    \n",
    "    with mda.Writer(out_xtc, protein.n_atoms) as W:\n",
    "        for ts in u.trajectory:\n",
    "            W.write(protein)\n",
    "                \n",
    "    return None \n"
   ]
  },
  {
   "cell_type": "code",
   "execution_count": 8,
   "id": "1ed03823-d444-477c-8bfb-548796218fa3",
   "metadata": {},
   "outputs": [],
   "source": [
    "extract_pro(psf, xtc, \"./tmp/test.psf\", \"./tmp/test_protein.xtc\")"
   ]
  },
  {
   "cell_type": "code",
   "execution_count": 12,
   "id": "14975b46-114f-419b-85b2-ff466ec0fcc7",
   "metadata": {},
   "outputs": [
    {
     "data": {
      "application/vnd.jupyter.widget-view+json": {
       "model_id": "868b95e2155a4afba5b0947155597a85",
       "version_major": 2,
       "version_minor": 0
      },
      "text/plain": [
       "NGLWidget(max_frame=20000)"
      ]
     },
     "metadata": {},
     "output_type": "display_data"
    }
   ],
   "source": [
    "u2 = mda.Universe(\"./tmp/test.psf\", \"./tmp/test_protein.xtc\")\n",
    "view = nv.show_mdanalysis(u2)\n",
    "view.add_representation('point', 'RESNAME TIP3')\n",
    "view.center()\n",
    "view"
   ]
  },
  {
   "cell_type": "code",
   "execution_count": 10,
   "id": "40ad51c5-bd4a-40e6-a11b-818220f90056",
   "metadata": {},
   "outputs": [],
   "source": [
    "traj_align_onfly(\"./tmp/test.psf\", \"./tmp/test_protein.xtc\", \"./tmp/aligned.xtc\")"
   ]
  },
  {
   "cell_type": "code",
   "execution_count": 11,
   "id": "f7cf9842-d8e7-475b-bd16-4fb41b5d09dd",
   "metadata": {},
   "outputs": [
    {
     "data": {
      "application/vnd.jupyter.widget-view+json": {
       "model_id": "59d86ffe118e4aa4bf2e0f857504ad2b",
       "version_major": 2,
       "version_minor": 0
      },
      "text/plain": [
       "NGLWidget(max_frame=20000)"
      ]
     },
     "metadata": {},
     "output_type": "display_data"
    }
   ],
   "source": [
    "u3 = mda.Universe(\"./tmp/test.psf\", \"./tmp/aligned.xtc\")\n",
    "view = nv.show_mdanalysis(u3)\n",
    "view.add_representation('point', 'RESNAME TIP3')\n",
    "view.center()\n",
    "view"
   ]
  },
  {
   "cell_type": "code",
   "execution_count": 13,
   "id": "1e9df0f2-6f90-4b8b-9417-29000a8930f4",
   "metadata": {},
   "outputs": [
    {
     "data": {
      "text/plain": [
       "<AtomGroup with 855 atoms>"
      ]
     },
     "execution_count": 13,
     "metadata": {},
     "output_type": "execute_result"
    }
   ],
   "source": [
    "u3.select_atoms(\"\")"
   ]
  },
  {
   "cell_type": "code",
   "execution_count": null,
   "id": "45797b61-b226-44e6-aeb8-108ce940a399",
   "metadata": {},
   "outputs": [],
   "source": []
  }
 ],
 "metadata": {
  "kernelspec": {
   "display_name": "Python 3 (ipykernel)",
   "language": "python",
   "name": "python3"
  },
  "language_info": {
   "codemirror_mode": {
    "name": "ipython",
    "version": 3
   },
   "file_extension": ".py",
   "mimetype": "text/x-python",
   "name": "python",
   "nbconvert_exporter": "python",
   "pygments_lexer": "ipython3",
   "version": "3.9.16"
  }
 },
 "nbformat": 4,
 "nbformat_minor": 5
}
